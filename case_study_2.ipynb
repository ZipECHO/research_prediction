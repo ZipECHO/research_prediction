{
 "cells": [
  {
   "cell_type": "code",
   "execution_count": 1,
   "id": "6100fade",
   "metadata": {},
   "outputs": [],
   "source": [
    "from utils import *\n",
    "import json"
   ]
  },
  {
   "cell_type": "code",
   "execution_count": 2,
   "id": "566c7130",
   "metadata": {},
   "outputs": [],
   "source": [
    "flt_auth_exp = load_file('data/flt_auth_exp.pickle')"
   ]
  },
  {
   "cell_type": "code",
   "execution_count": 3,
   "id": "e448dc61",
   "metadata": {},
   "outputs": [],
   "source": [
    "# k2emb = load_file('data/k2emb.pickle')"
   ]
  },
  {
   "cell_type": "code",
   "execution_count": 4,
   "id": "f9200da2",
   "metadata": {},
   "outputs": [
    {
     "name": "stderr",
     "output_type": "stream",
     "text": [
      "100%|███████████████████████████████████████████████████████████| 2068280/2068280 [00:55<00:00, 37214.10it/s]\n"
     ]
    }
   ],
   "source": [
    "papers = get_papers_dict()"
   ]
  },
  {
   "cell_type": "code",
   "execution_count": 21,
   "id": "6c3c568d",
   "metadata": {},
   "outputs": [],
   "source": [
    "# a = papers[40]['journal-ref']"
   ]
  },
  {
   "cell_type": "code",
   "execution_count": 58,
   "id": "e44b5131",
   "metadata": {},
   "outputs": [],
   "source": [
    "# a = 'aaaaaaaaa,2,\\n-()'"
   ]
  },
  {
   "cell_type": "code",
   "execution_count": 59,
   "id": "fc6c5fdf",
   "metadata": {},
   "outputs": [
    {
     "data": {
      "text/plain": [
       "[',', '2', ',', '\\n', '-', '(']"
      ]
     },
     "execution_count": 59,
     "metadata": {},
     "output_type": "execute_result"
    }
   ],
   "source": [
    "import re\n",
    "re.findall(r'[0-9]|,|\\n|\\(|-',a)"
   ]
  },
  {
   "cell_type": "code",
   "execution_count": 79,
   "id": "c321520f",
   "metadata": {},
   "outputs": [],
   "source": [
    "from fuzzywuzzy import fuzz"
   ]
  },
  {
   "cell_type": "code",
   "execution_count": 82,
   "id": "3066898c",
   "metadata": {},
   "outputs": [],
   "source": [
    "def get_j_list(j_l_path = 'journal_lists.txt'):\n",
    "    with open(j_l_path,'r') as file:\n",
    "        lines = file.readlines()\n",
    "        j_list = []\n",
    "        for line in lines:\n",
    "            line = line[:-1].split('\\t')\n",
    "            j_list.append(line)\n",
    "        file.close()\n",
    "    return j_list\n",
    "\n",
    "j_list = get_j_list()\n",
    "\n",
    "def j_name_align(s,j_list):\n",
    "    m = 0\n",
    "    j_name = 0\n",
    "    for j in j_list:\n",
    "        for name in j:\n",
    "            sim = fuzz.ratio(s,name)\n",
    "            if sim>m:\n",
    "                m = sim\n",
    "                j_name = j[0]\n",
    "    return j_name"
   ]
  },
  {
   "cell_type": "code",
   "execution_count": 83,
   "id": "7a4c20b0",
   "metadata": {},
   "outputs": [
    {
     "name": "stderr",
     "output_type": "stream",
     "text": [
      "  0%|                                                              | 2581/2068280 [00:52<11:41:18, 49.09it/s]\n"
     ]
    },
    {
     "ename": "KeyboardInterrupt",
     "evalue": "",
     "output_type": "error",
     "traceback": [
      "\u001b[0;31m---------------------------------------------------------------------------\u001b[0m",
      "\u001b[0;31mKeyboardInterrupt\u001b[0m                         Traceback (most recent call last)",
      "\u001b[0;32m/tmp/ipykernel_1302887/773271979.py\u001b[0m in \u001b[0;36m<module>\u001b[0;34m\u001b[0m\n\u001b[1;32m      7\u001b[0m         \u001b[0;32mif\u001b[0m \u001b[0mnums\u001b[0m\u001b[0;34m:\u001b[0m\u001b[0;34m\u001b[0m\u001b[0;34m\u001b[0m\u001b[0m\n\u001b[1;32m      8\u001b[0m             \u001b[0mjournal_conf\u001b[0m \u001b[0;34m=\u001b[0m \u001b[0mj_s\u001b[0m\u001b[0;34m.\u001b[0m\u001b[0msplit\u001b[0m\u001b[0;34m(\u001b[0m\u001b[0mspls\u001b[0m\u001b[0;34m[\u001b[0m\u001b[0;36m0\u001b[0m\u001b[0;34m]\u001b[0m\u001b[0;34m)\u001b[0m\u001b[0;34m[\u001b[0m\u001b[0;36m0\u001b[0m\u001b[0;34m]\u001b[0m\u001b[0;34m\u001b[0m\u001b[0;34m\u001b[0m\u001b[0m\n\u001b[0;32m----> 9\u001b[0;31m             \u001b[0mjournal_conf\u001b[0m \u001b[0;34m=\u001b[0m \u001b[0mj_name_align\u001b[0m\u001b[0;34m(\u001b[0m\u001b[0mjournal_conf\u001b[0m\u001b[0;34m,\u001b[0m\u001b[0mj_list\u001b[0m\u001b[0;34m)\u001b[0m\u001b[0;34m\u001b[0m\u001b[0;34m\u001b[0m\u001b[0m\n\u001b[0m\u001b[1;32m     10\u001b[0m         \u001b[0;32mif\u001b[0m \u001b[0mjournal_conf\u001b[0m \u001b[0;32mnot\u001b[0m \u001b[0;32min\u001b[0m \u001b[0mkey_dict_conf\u001b[0m\u001b[0;34m.\u001b[0m\u001b[0mkeys\u001b[0m\u001b[0;34m(\u001b[0m\u001b[0;34m)\u001b[0m\u001b[0;34m:\u001b[0m\u001b[0;34m\u001b[0m\u001b[0;34m\u001b[0m\u001b[0m\n\u001b[1;32m     11\u001b[0m             \u001b[0mkey_dict_conf\u001b[0m\u001b[0;34m[\u001b[0m\u001b[0mjournal_conf\u001b[0m\u001b[0;34m]\u001b[0m \u001b[0;34m=\u001b[0m \u001b[0;34m[\u001b[0m\u001b[0;34m]\u001b[0m\u001b[0;34m\u001b[0m\u001b[0;34m\u001b[0m\u001b[0m\n",
      "\u001b[0;32m/tmp/ipykernel_1302887/1259498407.py\u001b[0m in \u001b[0;36mj_name_align\u001b[0;34m(s, j_list)\u001b[0m\n\u001b[1;32m     16\u001b[0m     \u001b[0;32mfor\u001b[0m \u001b[0mj\u001b[0m \u001b[0;32min\u001b[0m \u001b[0mj_list\u001b[0m\u001b[0;34m:\u001b[0m\u001b[0;34m\u001b[0m\u001b[0;34m\u001b[0m\u001b[0m\n\u001b[1;32m     17\u001b[0m         \u001b[0;32mfor\u001b[0m \u001b[0mname\u001b[0m \u001b[0;32min\u001b[0m \u001b[0mj\u001b[0m\u001b[0;34m:\u001b[0m\u001b[0;34m\u001b[0m\u001b[0;34m\u001b[0m\u001b[0m\n\u001b[0;32m---> 18\u001b[0;31m             \u001b[0msim\u001b[0m \u001b[0;34m=\u001b[0m \u001b[0mfuzz\u001b[0m\u001b[0;34m.\u001b[0m\u001b[0mratio\u001b[0m\u001b[0;34m(\u001b[0m\u001b[0ms\u001b[0m\u001b[0;34m,\u001b[0m\u001b[0mname\u001b[0m\u001b[0;34m)\u001b[0m\u001b[0;34m\u001b[0m\u001b[0;34m\u001b[0m\u001b[0m\n\u001b[0m\u001b[1;32m     19\u001b[0m             \u001b[0;32mif\u001b[0m \u001b[0msim\u001b[0m\u001b[0;34m>\u001b[0m\u001b[0mm\u001b[0m\u001b[0;34m:\u001b[0m\u001b[0;34m\u001b[0m\u001b[0;34m\u001b[0m\u001b[0m\n\u001b[1;32m     20\u001b[0m                 \u001b[0mm\u001b[0m \u001b[0;34m=\u001b[0m \u001b[0msim\u001b[0m\u001b[0;34m\u001b[0m\u001b[0;34m\u001b[0m\u001b[0m\n",
      "\u001b[0;31mKeyboardInterrupt\u001b[0m: "
     ]
    }
   ],
   "source": [
    "key_dict_conf = {}\n",
    "no_j_c = 0\n",
    "for paper in tqdm(papers):\n",
    "    journal_conf=paper['journal-ref']\n",
    "    if journal_conf:\n",
    "        j_s = paper['journal-ref']\n",
    "        spls = re.findall(r'[0-9]|,|\\n|\\(|-|\\\\',j_s)\n",
    "        if nums:\n",
    "            journal_conf = j_s.split(spls[0])[0]\n",
    "            journal_conf = j_name_align(journal_conf,j_list)\n",
    "        if journal_conf not in key_dict_conf.keys():\n",
    "            key_dict_conf[journal_conf] = []\n",
    "\n",
    "        key_dict_conf[journal_conf] += paper['categories'].split(' ')\n",
    "    else:\n",
    "        no_j_c+=1"
   ]
  },
  {
   "cell_type": "code",
   "execution_count": 85,
   "id": "3a338c07",
   "metadata": {},
   "outputs": [
    {
     "data": {
      "text/plain": [
       "205"
      ]
     },
     "execution_count": 85,
     "metadata": {},
     "output_type": "execute_result"
    }
   ],
   "source": [
    "len(key_dict_conf)"
   ]
  },
  {
   "cell_type": "code",
   "execution_count": null,
   "id": "c5fbae45",
   "metadata": {},
   "outputs": [],
   "source": [
    "key_dict_conf['']"
   ]
  },
  {
   "cell_type": "code",
   "execution_count": 41,
   "id": "8d4ca683",
   "metadata": {},
   "outputs": [],
   "source": [
    "import matplotlib.pyplot as plt\n",
    "def draw_count(count_list):\n",
    "    plt.hist(count_list,bins=100)\n",
    "    plt.show()         "
   ]
  },
  {
   "cell_type": "code",
   "execution_count": 42,
   "id": "3bba1d4e",
   "metadata": {},
   "outputs": [
    {
     "data": {
      "image/png": "[encoded data removed]",
      "text/plain": [
       "<Figure size 432x288 with 1 Axes>"
      ]
     },
     "metadata": {
      "needs_background": "light"
     },
     "output_type": "display_data"
    }
   ],
   "source": [
    "c = []\n",
    "for key,val in key_dict_conf.items():\n",
    "    c.append(len(val))\n",
    "draw_count(c)"
   ]
  },
  {
   "cell_type": "code",
   "execution_count": null,
   "id": "c687084f",
   "metadata": {},
   "outputs": [],
   "source": []
  }
 ],
 "metadata": {
  "kernelspec": {
   "display_name": "Python 3 (ipykernel)",
   "language": "python",
   "name": "python3"
  },
  "language_info": {
   "codemirror_mode": {
    "name": "ipython",
    "version": 3
   },
   "file_extension": ".py",
   "mimetype": "text/x-python",
   "name": "python",
   "nbconvert_exporter": "python",
   "pygments_lexer": "ipython3",
   "version": "3.7.10"
  }
 },
 "nbformat": 4,
 "nbformat_minor": 5
}

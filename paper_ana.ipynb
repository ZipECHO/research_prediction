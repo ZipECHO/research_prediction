{
 "cells": [
  {
   "cell_type": "code",
   "execution_count": 1,
   "metadata": {},
   "outputs": [],
   "source": [
    "from train import *"
   ]
  },
  {
   "cell_type": "code",
   "execution_count": 2,
   "metadata": {},
   "outputs": [
    {
     "name": "stdout",
     "output_type": "stream",
     "text": [
      "cuda:3\n"
     ]
    },
    {
     "name": "stderr",
     "output_type": "stream",
     "text": [
      "100%|██████████████████████████████████████████████████████████████████████████████████████████████████████████████████████████████████████████████████████████████████████████████████████████████████████████████| 5/5 [02:35<00:00, 31.04s/it, Loss=145]\n"
     ]
    }
   ],
   "source": [
    "model = train()"
   ]
  },
  {
   "cell_type": "code",
   "execution_count": 19,
   "metadata": {},
   "outputs": [],
   "source": [
    "# def test(model):\n",
    "test_pad_seq = get_test_pad_exp(exps)\n",
    "test_dataloader = split_get_dataloader(test_pad_seq, input_size,k_emb_size)\n",
    "device = torch.device('cuda:{}'.format(gpu_num) if torch.cuda.is_available() else 'cpu')\n",
    "\n",
    "t_c = 0\n",
    "total_c = 0\n",
    "for batch_x,y in test_dataloader:\n",
    "    batch_x = batch_x.to(device)\n",
    "    pred_vec = model(batch_x)\n",
    "    y_hat = torch.argmax(pred_vec,dim=1)\n",
    "    lab = torch.argmax(y,dim=1)\n",
    "    for i in range(len(lab)):\n",
    "        total_c += 1\n",
    "        if y_hat[i]==lab[i]:\n",
    "            t_c+=1"
   ]
  },
  {
   "cell_type": "code",
   "execution_count": 33,
   "metadata": {},
   "outputs": [],
   "source": [
    "y_hat = np.array([])\n",
    "lab = np.array([])\n",
    "for batch_x,y in test_dataloader:\n",
    "    batch_x = batch_x.to(device)\n",
    "    pred_vec = model(batch_x)\n",
    "    y_hat = np.concatenate([y_hat,np.array(torch.argmax(pred_vec,dim=1).cpu())])\n",
    "    lab = np.concatenate([lab,np.array(torch.argmax(y, dim=1).cpu())])\n",
    "    "
   ]
  },
  {
   "cell_type": "code",
   "execution_count": 37,
   "metadata": {},
   "outputs": [
    {
     "data": {
      "text/plain": [
       "0.4573093220338983"
      ]
     },
     "execution_count": 37,
     "metadata": {},
     "output_type": "execute_result"
    }
   ],
   "source": [
    "def get_acc(y_hat,lab):\n",
    "    t = 0\n",
    "    for pred,l in zip(y_hat,lab):\n",
    "        if pred==l:\n",
    "            t += 1\n",
    "    return t/len(y_hat)"
   ]
  },
  {
   "cell_type": "code",
   "execution_count": 32,
   "metadata": {},
   "outputs": [],
   "source": [
    "import numpy as np\n",
    "np.concatenate"
   ]
  },
  {
   "cell_type": "code",
   "execution_count": 31,
   "metadata": {},
   "outputs": [
    {
     "data": {
      "text/plain": [
       "tensor([118,  29,  73,  53, 143,  90,  93, 143,  54,  76,  48, 158,  93, 117,\n",
       "         69,  93,  91,  83,  93,  93, 120, 130,  79, 138,  87, 148, 116, 148,\n",
       "        156, 138,  66,  73,  79,  90, 115,  75,  61,  93,  77, 132, 141, 156,\n",
       "         87,  35,  62,  77,  76,  79,  69,  93,  34, 101, 122, 107, 143, 158,\n",
       "         54,  83,  78,  86,  75,  69, 101,  53,  83,  20,  93,  83, 123,  90,\n",
       "        148,  46,  54, 154,  76,  68,  93,  93,  81, 124, 131,  17, 128,  90,\n",
       "        118, 117,  46,  46, 138, 148, 158,  69,  57,  93,  77, 101, 110, 146,\n",
       "        114, 110, 143, 128, 138,  93,  35,  43,  86, 156, 117,  93, 148, 158,\n",
       "        158,  54,  90, 136, 138,  93, 132,  76,  83, 148,  53, 131,  70,  87,\n",
       "         53, 102])"
      ]
     },
     "execution_count": 31,
     "metadata": {},
     "output_type": "execute_result"
    }
   ],
   "source": [
    "torch.argmax(pred_vec,dim=1).cpu()"
   ]
  },
  {
   "cell_type": "code",
   "execution_count": 29,
   "metadata": {},
   "outputs": [
    {
     "ename": "AttributeError",
     "evalue": "'Tensor' object has no attribute 'to_tensor'",
     "output_type": "error",
     "traceback": [
      "\u001B[0;31m---------------------------------------------------------------------------\u001B[0m",
      "\u001B[0;31mAttributeError\u001B[0m                            Traceback (most recent call last)",
      "\u001B[0;32m/tmp/ipykernel_2187231/1225692708.py\u001B[0m in \u001B[0;36m<module>\u001B[0;34m\u001B[0m\n\u001B[0;32m----> 1\u001B[0;31m \u001B[0mtorch\u001B[0m\u001B[0;34m.\u001B[0m\u001B[0margmax\u001B[0m\u001B[0;34m(\u001B[0m\u001B[0mpred_vec\u001B[0m\u001B[0;34m,\u001B[0m\u001B[0mdim\u001B[0m\u001B[0;34m=\u001B[0m\u001B[0;36m1\u001B[0m\u001B[0;34m)\u001B[0m\u001B[0;34m.\u001B[0m\u001B[0mcpu\u001B[0m\u001B[0;34m(\u001B[0m\u001B[0;34m)\u001B[0m\u001B[0;34m.\u001B[0m\u001B[0mto_tensor\u001B[0m\u001B[0;34m(\u001B[0m\u001B[0;34m)\u001B[0m\u001B[0;34m\u001B[0m\u001B[0;34m\u001B[0m\u001B[0m\n\u001B[0m",
      "\u001B[0;31mAttributeError\u001B[0m: 'Tensor' object has no attribute 'to_tensor'"
     ]
    }
   ],
   "source": [
    "torch.argmax(pred_vec,dim=1).cpu()"
   ]
  },
  {
   "cell_type": "code",
   "execution_count": 18,
   "metadata": {},
   "outputs": [
    {
     "data": {
      "text/plain": [
       "torch.Size([128])"
      ]
     },
     "execution_count": 18,
     "metadata": {},
     "output_type": "execute_result"
    }
   ],
   "source": [
    "torch.argmax(y,dim=1).shape"
   ]
  }
 ],
 "metadata": {
  "kernelspec": {
   "display_name": "Python 3 (ipykernel)",
   "language": "python",
   "name": "python3"
  },
  "language_info": {
   "codemirror_mode": {
    "name": "ipython",
    "version": 3
   },
   "file_extension": ".py",
   "mimetype": "text/x-python",
   "name": "python",
   "nbconvert_exporter": "python",
   "pygments_lexer": "ipython3",
   "version": "3.7.10"
  }
 },
 "nbformat": 4,
 "nbformat_minor": 1
}